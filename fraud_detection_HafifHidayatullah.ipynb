{
 "cells": [
  {
   "cell_type": "markdown",
   "id": "d10cbad3",
   "metadata": {},
   "source": [
    "\n",
    "# Deteksi Transaksi Penipuan Menggunakan Machine Learning\n",
    "\n",
    "**Nama:** Hafif Hidayatullah  \n",
    "**NIM:** A11.2023.15121 \n",
    "**Kelas:** A11.4403  \n"
   ]
  },
  {
   "cell_type": "markdown",
   "id": "d42fccae",
   "metadata": {},
   "source": [
    "\n",
    "## Ringkasan Masalah dan Tujuan\n",
    "\n",
    "Transaksi penipuan (fraud) dalam sistem keuangan digital adalah masalah yang merugikan secara finansial. Oleh karena itu, perlu sistem otomatis untuk mendeteksi transaksi yang mencurigakan secara cepat.\n",
    "\n",
    "### Tujuan:\n",
    "- Mendeteksi transaksi penipuan berdasarkan data historis transaksi.\n",
    "- Membangun model Machine Learning untuk klasifikasi transaksi fraud/tidak fraud.\n",
    "\n",
    "### Alur Penyelesaian:\n",
    "1. Data Input  \n",
    "2. Preprocessing  \n",
    "3. Feature Engineering  \n",
    "4. Model Training  \n",
    "5. Model Evaluation  \n",
    "6. Deploy / Prediksi\n"
   ]
  },
  {
   "cell_type": "code",
   "execution_count": null,
   "id": "353a3017",
   "metadata": {},
   "outputs": [],
   "source": [
    "\n",
    "import pandas as pd\n",
    "import matplotlib.pyplot as plt\n",
    "import seaborn as sns\n",
    "\n",
    "# Load dataset\n",
    "df = pd.read_excel(\"top_100_fraud_transactions.xlsx\")\n",
    "df.head()\n"
   ]
  },
  {
   "cell_type": "markdown",
   "id": "a6b9da15",
   "metadata": {},
   "source": [
    "\n",
    "Dataset berisi informasi 100 transaksi dengan beberapa fitur penting seperti:\n",
    "- Amount\n",
    "- Merchant\n",
    "- Location\n",
    "- Time\n",
    "- Fraud (Label: 1/0)\n",
    "\n",
    "### EDA:\n",
    "- Visualisasi distribusi transaksi fraud vs tidak.\n",
    "- Korelasi antar fitur.\n"
   ]
  },
  {
   "cell_type": "code",
   "execution_count": null,
   "id": "bf3f31c9",
   "metadata": {},
   "outputs": [],
   "source": [
    "\n",
    "# Visualisasi distribusi fraud\n",
    "sns.countplot(data=df, x='fraud')\n",
    "plt.title(\"Distribusi Transaksi Fraud vs Non-Fraud\")\n",
    "plt.show()\n"
   ]
  },
  {
   "cell_type": "code",
   "execution_count": null,
   "id": "3b44e91f",
   "metadata": {},
   "outputs": [],
   "source": [
    "\n",
    "from sklearn.model_selection import train_test_split\n",
    "from sklearn.ensemble import RandomForestClassifier\n",
    "from sklearn.metrics import classification_report\n",
    "\n",
    "# Misal: ambil fitur numerik saja (disesuaikan dengan dataset asli)\n",
    "X = df.drop('fraud', axis=1)._get_numeric_data()\n",
    "y = df['fraud']\n",
    "\n",
    "X_train, X_test, y_train, y_test = train_test_split(X, y, test_size=0.2, random_state=42)\n",
    "\n",
    "model = RandomForestClassifier()\n",
    "model.fit(X_train, y_train)\n",
    "\n",
    "y_pred = model.predict(X_test)\n"
   ]
  },
  {
   "cell_type": "code",
   "execution_count": null,
   "id": "eae0359d",
   "metadata": {},
   "outputs": [],
   "source": [
    "\n",
    "print(classification_report(y_test, y_pred))\n"
   ]
  },
  {
   "cell_type": "markdown",
   "id": "ec279340",
   "metadata": {},
   "source": [
    "\n",
    "## Diskusi dan Kesimpulan\n",
    "\n",
    "Model cukup baik dalam mengenali transaksi fraud, meskipun perlu data lebih besar untuk akurasi lebih tinggi.\n",
    "Fitur-fitur seperti jumlah transaksi dan lokasi memberi pengaruh besar terhadap deteksi.\n",
    "\n",
    "### Kesimpulan:\n",
    "Sistem machine learning mampu membantu mendeteksi fraud lebih cepat dan efisien, namun tetap memerlukan validasi manual dalam kasus kritis.\n"
   ]
  }
 ],
 "metadata": {
  "language_info": {
   "name": "python"
  }
 },
 "nbformat": 4,
 "nbformat_minor": 5
}
